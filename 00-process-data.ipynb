{
 "cells": [
  {
   "cell_type": "markdown",
   "id": "98c67f06-fa8d-4841-a13a-670ba2b3f02e",
   "metadata": {},
   "source": [
    "# Process data"
   ]
  },
  {
   "cell_type": "markdown",
   "id": "f0c5e929-a99d-4c3a-ab6c-49711c3a468d",
   "metadata": {},
   "source": [
    "## 1. Setup"
   ]
  },
  {
   "cell_type": "code",
   "execution_count": null,
   "id": "66aa118a-ac4f-41b9-a545-41a89a888604",
   "metadata": {},
   "outputs": [],
   "source": [
    "import ast\n",
    "import json\n",
    "import pandas as pd\n",
    "from tqdm import tqdm\n",
    "from datasets import load_dataset, Dataset"
   ]
  },
  {
   "cell_type": "markdown",
   "id": "c5b290b2-fdc8-414a-94c0-3b7c1398c844",
   "metadata": {},
   "source": [
    "## 2. Process"
   ]
  },
  {
   "cell_type": "code",
   "execution_count": null,
   "id": "48d7dcfc-e3bd-4bd6-ae8e-4e8e08c4c9d4",
   "metadata": {},
   "outputs": [],
   "source": [
    "data = load_dataset('Universal-NER/Pile-NER-type')['train']"
   ]
  },
  {
   "cell_type": "code",
   "execution_count": null,
   "id": "54e10ecc-a572-41f5-8a54-3e2984a2f5c9",
   "metadata": {},
   "outputs": [],
   "source": [
    "prep = []\n",
    "for d in tqdm(data):\n",
    "    utters = d['conversations']\n",
    "\n",
    "    entities = []\n",
    "    for uid, u in enumerate(utters):\n",
    "        if uid == 0:\n",
    "            text = u['value'][6:]\n",
    "        \n",
    "        elif uid == 1:\n",
    "            continue\n",
    "\n",
    "        elif uid % 2 == 0:\n",
    "            entity_type = u['value'].replace('What describes ', '').replace(' in the text?', '')\n",
    "\n",
    "        else:\n",
    "            entity_mentions = ast.literal_eval(u['value'])\n",
    "            entities.append({'entity_type': entity_type, 'entity_mentions': entity_mentions})\n",
    "            \n",
    "    prep.append({'text': text, 'entities': entities})"
   ]
  },
  {
   "cell_type": "code",
   "execution_count": null,
   "id": "f1814b65-c60e-45c3-8e44-997ab5105ed1",
   "metadata": {},
   "outputs": [],
   "source": [
    "with open('data.json', 'w') as f:\n",
    "    json.dump(prep, f)"
   ]
  },
  {
   "cell_type": "markdown",
   "id": "8ccce6c7-25e9-40f8-b370-08788bb4b470",
   "metadata": {},
   "source": [
    "## 3. Push to Hugginface Hub"
   ]
  },
  {
   "cell_type": "code",
   "execution_count": null,
   "id": "04a7a547-6cbd-4431-9736-6679f4eca4f2",
   "metadata": {},
   "outputs": [],
   "source": [
    "data = Dataset.from_json('data.json')"
   ]
  },
  {
   "cell_type": "code",
   "execution_count": null,
   "id": "3012bd74-de7a-443d-86fd-f38a729bd7d8",
   "metadata": {},
   "outputs": [],
   "source": [
    "data = data.train_test_split(test_size=0.2)\n",
    "train_data, valid_data = data['train'], data['test']\n",
    "len(train_data), len(valid_data)"
   ]
  },
  {
   "cell_type": "code",
   "execution_count": null,
   "id": "45cf2d90-b64a-4258-8633-d30c90e87c10",
   "metadata": {},
   "outputs": [],
   "source": [
    "train_data.push_to_hub('yongsun-yoon/open-ner-english', split='train')\n",
    "valid_data.push_to_hub('yongsun-yoon/open-ner-english', split='validation')"
   ]
  }
 ],
 "metadata": {
  "kernelspec": {
   "display_name": "Python 3 (ipykernel)",
   "language": "python",
   "name": "python3"
  },
  "language_info": {
   "codemirror_mode": {
    "name": "ipython",
    "version": 3
   },
   "file_extension": ".py",
   "mimetype": "text/x-python",
   "name": "python",
   "nbconvert_exporter": "python",
   "pygments_lexer": "ipython3",
   "version": "3.10.9"
  }
 },
 "nbformat": 4,
 "nbformat_minor": 5
}
